{
 "cells": [
  {
   "cell_type": "code",
   "execution_count": 1,
   "id": "0d7cbe52",
   "metadata": {
    "_cell_guid": "b1076dfc-b9ad-4769-8c92-a6c4dae69d19",
    "_uuid": "8f2839f25d086af736a60e9eeb907d3b93b6e0e5",
    "execution": {
     "iopub.execute_input": "2025-03-05T18:50:07.667781Z",
     "iopub.status.busy": "2025-03-05T18:50:07.667363Z",
     "iopub.status.idle": "2025-03-05T18:50:17.672265Z",
     "shell.execute_reply": "2025-03-05T18:50:17.671504Z"
    },
    "papermill": {
     "duration": 10.013362,
     "end_time": "2025-03-05T18:50:17.674134",
     "exception": false,
     "start_time": "2025-03-05T18:50:07.660772",
     "status": "completed"
    },
    "tags": []
   },
   "outputs": [],
   "source": [
    "# This Python 3 environment comes with many helpful analytics libraries installed\n",
    "# It is defined by the kaggle/python Docker image: https://github.com/kaggle/docker-python\n",
    "# For example, here's several helpful packages to load\n",
    "\n",
    "import numpy as np # linear algebra\n",
    "import pandas as pd # data processing, CSV file I/O (e.g. pd.read_csv)\n",
    "import nltk\n",
    "from tensorflow.keras.preprocessing.sequence import pad_sequences\n",
    "import plotly.express as px\n",
    "from nltk.corpus import brown\n",
    "from tensorflow import keras\n",
    "from sklearn.model_selection import train_test_split\n",
    "from tensorflow.keras.callbacks import EarlyStopping\n",
    "from collections import Counter\n",
    "from tensorflow.keras.preprocessing.text import Tokenizer\n",
    "from numpy import random\n",
    "import tensorflow as tf\n",
    "import pickle\n",
    "\n",
    "\n",
    "\n",
    "# Input data files are available in the read-only \"../input/\" directory\n",
    "# For example, running this (by clicking run or pressing Shift+Enter) will list all files under the input directory\n",
    "\n",
    "import os\n",
    "for dirname, _, filenames in os.walk('/kaggle/input'):\n",
    "    for filename in filenames:\n",
    "        print(os.path.join(dirname, filename))\n",
    "\n",
    "# You can write up to 20GB to the current directory (/kaggle/working/) that gets preserved as output when you create a version using \"Save & Run All\" \n",
    "# You can also write temporary files to /kaggle/temp/, but they won't be saved outside of the current session"
   ]
  },
  {
   "cell_type": "markdown",
   "id": "fba84182",
   "metadata": {
    "papermill": {
     "duration": 0.004311,
     "end_time": "2025-03-05T18:50:17.683450",
     "exception": false,
     "start_time": "2025-03-05T18:50:17.679139",
     "status": "completed"
    },
    "tags": []
   },
   "source": [
    "## Some EDA for The Brown Corpus¶\n"
   ]
  },
  {
   "cell_type": "code",
   "execution_count": 2,
   "id": "99dbf044",
   "metadata": {
    "execution": {
     "iopub.execute_input": "2025-03-05T18:50:17.693618Z",
     "iopub.status.busy": "2025-03-05T18:50:17.692970Z",
     "iopub.status.idle": "2025-03-05T18:50:19.843785Z",
     "shell.execute_reply": "2025-03-05T18:50:19.842677Z"
    },
    "papermill": {
     "duration": 2.157395,
     "end_time": "2025-03-05T18:50:19.845187",
     "exception": false,
     "start_time": "2025-03-05T18:50:17.687792",
     "status": "completed"
    },
    "tags": []
   },
   "outputs": [
    {
     "name": "stdout",
     "output_type": "stream",
     "text": [
      "The Brown Corpus Contains 57340 tagged sentences\n"
     ]
    }
   ],
   "source": [
    "print(\"The Brown Corpus Contains \"+ str(len(brown.tagged_sents()))+ \" tagged sentences\")"
   ]
  },
  {
   "cell_type": "code",
   "execution_count": 3,
   "id": "0af89464",
   "metadata": {
    "execution": {
     "iopub.execute_input": "2025-03-05T18:50:19.855796Z",
     "iopub.status.busy": "2025-03-05T18:50:19.855466Z",
     "iopub.status.idle": "2025-03-05T18:50:29.637518Z",
     "shell.execute_reply": "2025-03-05T18:50:29.636405Z"
    },
    "papermill": {
     "duration": 9.789,
     "end_time": "2025-03-05T18:50:29.639073",
     "exception": false,
     "start_time": "2025-03-05T18:50:19.850073",
     "status": "completed"
    },
    "tags": []
   },
   "outputs": [
    {
     "name": "stdout",
     "output_type": "stream",
     "text": [
      "['Thus', ',', 'if', 'one', 'accelerometer', 'is', 'properly', 'aligned', ',', 'the', 'other', 'is', 'also', '.']\n",
      "\n",
      "\n",
      "['Cady', 'handed', 'her', 'the', 'letter', ',', 'drank', 'his', 'coffee', 'and', 'waited', 'with', 'what', 'he', 'suddenly', 'realized', 'was', 'belligerence', '.']\n",
      "\n",
      "\n",
      "['The', 'minimum', 'diameter', 'of', 'the', 'pin', 'frame', 'in', 'the', 'collapsed', 'state', 'is', '11', 'inches', 'and', 'the', 'maximum', 'diameter', 'in', 'the', 'freely', 'extended', 'state', '(', 'unloaded', ')', 'is', '14', 'inches', '.']\n",
      "\n",
      "\n"
     ]
    }
   ],
   "source": [
    "for i in range( 3 ):\n",
    "    index = random.randint(len(brown.sents())-1)\n",
    "    print( brown.sents()[index] )\n",
    "    print(\"\\n\")"
   ]
  },
  {
   "cell_type": "code",
   "execution_count": 4,
   "id": "23d91543",
   "metadata": {
    "execution": {
     "iopub.execute_input": "2025-03-05T18:50:29.649672Z",
     "iopub.status.busy": "2025-03-05T18:50:29.649363Z",
     "iopub.status.idle": "2025-03-05T18:50:32.461100Z",
     "shell.execute_reply": "2025-03-05T18:50:32.460226Z"
    },
    "papermill": {
     "duration": 2.818605,
     "end_time": "2025-03-05T18:50:32.462576",
     "exception": false,
     "start_time": "2025-03-05T18:50:29.643971",
     "status": "completed"
    },
    "tags": []
   },
   "outputs": [
    {
     "data": {
      "text/html": [
       "<iframe\n",
       "    scrolling=\"no\"\n",
       "    width=\"100%\"\n",
       "    height=\"545px\"\n",
       "    src=\"iframe_figures/figure_4.html\"\n",
       "    frameborder=\"0\"\n",
       "    allowfullscreen\n",
       "></iframe>\n"
      ]
     },
     "metadata": {},
     "output_type": "display_data"
    }
   ],
   "source": [
    "lengths = [ len( sentence ) for sentence in brown.sents() ]\n",
    "fig = px.histogram( lengths, title = \"sentences Length Histogram\" )\n",
    "fig.show( renderer = \"iframe\" )"
   ]
  },
  {
   "cell_type": "code",
   "execution_count": 5,
   "id": "6142473c",
   "metadata": {
    "execution": {
     "iopub.execute_input": "2025-03-05T18:50:32.473367Z",
     "iopub.status.busy": "2025-03-05T18:50:32.473063Z",
     "iopub.status.idle": "2025-03-05T18:50:32.476457Z",
     "shell.execute_reply": "2025-03-05T18:50:32.475627Z"
    },
    "papermill": {
     "duration": 0.010234,
     "end_time": "2025-03-05T18:50:32.477910",
     "exception": false,
     "start_time": "2025-03-05T18:50:32.467676",
     "status": "completed"
    },
    "tags": []
   },
   "outputs": [],
   "source": [
    "# Choose the max sentence length to be 50\n",
    "sentence_length = 50"
   ]
  },
  {
   "cell_type": "code",
   "execution_count": 6,
   "id": "8480583a",
   "metadata": {
    "execution": {
     "iopub.execute_input": "2025-03-05T18:50:32.488366Z",
     "iopub.status.busy": "2025-03-05T18:50:32.488094Z",
     "iopub.status.idle": "2025-03-05T18:50:35.206814Z",
     "shell.execute_reply": "2025-03-05T18:50:35.206075Z"
    },
    "papermill": {
     "duration": 2.725702,
     "end_time": "2025-03-05T18:50:35.208421",
     "exception": false,
     "start_time": "2025-03-05T18:50:32.482719",
     "status": "completed"
    },
    "tags": []
   },
   "outputs": [],
   "source": [
    "# Extract the part-of-speech tags for each word in each sentence of the Brown Corpus.\n",
    "tags = [tag for word, tag in brown.tagged_words(tagset = \"universal\")]\n",
    "# Count the frequency of each tag\n",
    "tags_freq = Counter(tags)"
   ]
  },
  {
   "cell_type": "code",
   "execution_count": 7,
   "id": "b45a143f",
   "metadata": {
    "execution": {
     "iopub.execute_input": "2025-03-05T18:50:35.220314Z",
     "iopub.status.busy": "2025-03-05T18:50:35.220003Z",
     "iopub.status.idle": "2025-03-05T18:50:35.307949Z",
     "shell.execute_reply": "2025-03-05T18:50:35.307090Z"
    },
    "papermill": {
     "duration": 0.095496,
     "end_time": "2025-03-05T18:50:35.309406",
     "exception": false,
     "start_time": "2025-03-05T18:50:35.213910",
     "status": "completed"
    },
    "tags": []
   },
   "outputs": [
    {
     "data": {
      "text/html": [
       "<iframe\n",
       "    scrolling=\"no\"\n",
       "    width=\"100%\"\n",
       "    height=\"545px\"\n",
       "    src=\"iframe_figures/figure_7.html\"\n",
       "    frameborder=\"0\"\n",
       "    allowfullscreen\n",
       "></iframe>\n"
      ]
     },
     "metadata": {},
     "output_type": "display_data"
    }
   ],
   "source": [
    "fig = px.bar( x = tags_freq.keys(), y = tags_freq.values(), title = \"Tags Distribution\")\n",
    "fig.show(renderer = \"iframe\")"
   ]
  },
  {
   "cell_type": "markdown",
   "id": "dd0d6ea7",
   "metadata": {
    "papermill": {
     "duration": 0.004498,
     "end_time": "2025-03-05T18:50:35.319098",
     "exception": false,
     "start_time": "2025-03-05T18:50:35.314600",
     "status": "completed"
    },
    "tags": []
   },
   "source": [
    "## Data Preprocessing"
   ]
  },
  {
   "cell_type": "code",
   "execution_count": 8,
   "id": "724a0a32",
   "metadata": {
    "execution": {
     "iopub.execute_input": "2025-03-05T18:50:35.329621Z",
     "iopub.status.busy": "2025-03-05T18:50:35.329270Z",
     "iopub.status.idle": "2025-03-05T18:50:40.705794Z",
     "shell.execute_reply": "2025-03-05T18:50:40.704815Z"
    },
    "papermill": {
     "duration": 5.38365,
     "end_time": "2025-03-05T18:50:40.707453",
     "exception": false,
     "start_time": "2025-03-05T18:50:35.323803",
     "status": "completed"
    },
    "tags": []
   },
   "outputs": [],
   "source": [
    "# Separate the tags from the words and take only sentences with a length less than or equal to 50\n",
    "\n",
    "sentences = [ [word for  word, tag in sentence] for sentence in brown.tagged_sents(tagset = \"universal\") if len(sentence) <= 50]\n",
    "\n",
    "tags = [ [tag for  word, tag in sentence] for sentence in brown.tagged_sents(tagset = \"universal\") if len(sentence) <= 50 ]\n"
   ]
  },
  {
   "cell_type": "code",
   "execution_count": 9,
   "id": "513c9aab",
   "metadata": {
    "execution": {
     "iopub.execute_input": "2025-03-05T18:50:40.718438Z",
     "iopub.status.busy": "2025-03-05T18:50:40.718152Z",
     "iopub.status.idle": "2025-03-05T18:50:40.722431Z",
     "shell.execute_reply": "2025-03-05T18:50:40.721612Z"
    },
    "papermill": {
     "duration": 0.01092,
     "end_time": "2025-03-05T18:50:40.723611",
     "exception": false,
     "start_time": "2025-03-05T18:50:40.712691",
     "status": "completed"
    },
    "tags": []
   },
   "outputs": [
    {
     "name": "stdout",
     "output_type": "stream",
     "text": [
      "Dateset size after droping all sentences with length more than 50 is: 55708\n"
     ]
    }
   ],
   "source": [
    "print(\"Dateset size after droping all sentences with length more than 50 is: \"+str(len(sentences)))"
   ]
  },
  {
   "cell_type": "code",
   "execution_count": 10,
   "id": "e16da62a",
   "metadata": {
    "execution": {
     "iopub.execute_input": "2025-03-05T18:50:40.734272Z",
     "iopub.status.busy": "2025-03-05T18:50:40.734010Z",
     "iopub.status.idle": "2025-03-05T18:50:40.767918Z",
     "shell.execute_reply": "2025-03-05T18:50:40.767079Z"
    },
    "papermill": {
     "duration": 0.04088,
     "end_time": "2025-03-05T18:50:40.769531",
     "exception": false,
     "start_time": "2025-03-05T18:50:40.728651",
     "status": "completed"
    },
    "tags": []
   },
   "outputs": [],
   "source": [
    "# Split the dataset into training and validation sets\n",
    "X_train, X_valid, Y_train, Y_valid = train_test_split(sentences, tags, test_size = 0.09, random_state = 42)"
   ]
  },
  {
   "cell_type": "code",
   "execution_count": 11,
   "id": "cec8624a",
   "metadata": {
    "execution": {
     "iopub.execute_input": "2025-03-05T18:50:40.780758Z",
     "iopub.status.busy": "2025-03-05T18:50:40.780433Z",
     "iopub.status.idle": "2025-03-05T18:50:42.012269Z",
     "shell.execute_reply": "2025-03-05T18:50:42.011499Z"
    },
    "papermill": {
     "duration": 1.238991,
     "end_time": "2025-03-05T18:50:42.013901",
     "exception": false,
     "start_time": "2025-03-05T18:50:40.774910",
     "status": "completed"
    },
    "tags": []
   },
   "outputs": [],
   "source": [
    "# Create a tokenizer for the words and fit it to the data \n",
    "word_tokenizer = Tokenizer( oov_token = \"<OOV>\")\n",
    "word_tokenizer.fit_on_texts(X_train)\n",
    "\n",
    "\n",
    "# Create a tokenizer for the tags and fit it to the data \n",
    "tag_tokenizer = Tokenizer()\n",
    "tag_tokenizer.fit_on_texts(Y_train)"
   ]
  },
  {
   "cell_type": "code",
   "execution_count": 12,
   "id": "88cbc984",
   "metadata": {
    "execution": {
     "iopub.execute_input": "2025-03-05T18:50:42.024799Z",
     "iopub.status.busy": "2025-03-05T18:50:42.024453Z",
     "iopub.status.idle": "2025-03-05T18:50:43.350722Z",
     "shell.execute_reply": "2025-03-05T18:50:43.350036Z"
    },
    "papermill": {
     "duration": 1.333312,
     "end_time": "2025-03-05T18:50:43.352262",
     "exception": false,
     "start_time": "2025-03-05T18:50:42.018950",
     "status": "completed"
    },
    "tags": []
   },
   "outputs": [],
   "source": [
    "# Encode teh training data\n",
    "\n",
    "X_train = word_tokenizer.texts_to_sequences(X_train)\n",
    "X_train = pad_sequences(X_train, maxlen = sentence_length, padding = 'post')\n",
    "\n",
    "Y_train = tag_tokenizer.texts_to_sequences(Y_train)\n",
    "Y_train = pad_sequences(Y_train, maxlen = sentence_length, padding='post')\n",
    "\n",
    "\n",
    "tags_len = len(tag_tokenizer.word_index)+1 # # PLus one because encoding is one based\n",
    "\n",
    "word_index = word_tokenizer.word_index  \n",
    "vocab_len = len(word_index)+2 # PLus two to include the Out of Vocabulary token\n"
   ]
  },
  {
   "cell_type": "code",
   "execution_count": 13,
   "id": "0ea4c02b",
   "metadata": {
    "execution": {
     "iopub.execute_input": "2025-03-05T18:50:43.363601Z",
     "iopub.status.busy": "2025-03-05T18:50:43.363273Z",
     "iopub.status.idle": "2025-03-05T18:50:43.463592Z",
     "shell.execute_reply": "2025-03-05T18:50:43.462850Z"
    },
    "papermill": {
     "duration": 0.107464,
     "end_time": "2025-03-05T18:50:43.465183",
     "exception": false,
     "start_time": "2025-03-05T18:50:43.357719",
     "status": "completed"
    },
    "tags": []
   },
   "outputs": [],
   "source": [
    "# Encode the validation data\n",
    "\n",
    "X_valid = word_tokenizer.texts_to_sequences(X_valid)\n",
    "X_valid = pad_sequences(X_valid, maxlen = sentence_length, padding = 'post')\n",
    "\n",
    "Y_valid = tag_tokenizer.texts_to_sequences(Y_valid)\n",
    "Y_valid = pad_sequences(Y_valid, maxlen = sentence_length, padding='post')\n"
   ]
  },
  {
   "cell_type": "markdown",
   "id": "45a49b62",
   "metadata": {
    "papermill": {
     "duration": 0.0046,
     "end_time": "2025-03-05T18:50:43.474824",
     "exception": false,
     "start_time": "2025-03-05T18:50:43.470224",
     "status": "completed"
    },
    "tags": []
   },
   "source": [
    "## Using The GloVe Embeddings"
   ]
  },
  {
   "cell_type": "code",
   "execution_count": 14,
   "id": "ee5564cf",
   "metadata": {
    "execution": {
     "iopub.execute_input": "2025-03-05T18:50:43.485426Z",
     "iopub.status.busy": "2025-03-05T18:50:43.485095Z",
     "iopub.status.idle": "2025-03-05T19:01:28.639802Z",
     "shell.execute_reply": "2025-03-05T19:01:28.638661Z"
    },
    "papermill": {
     "duration": 645.161886,
     "end_time": "2025-03-05T19:01:28.641515",
     "exception": false,
     "start_time": "2025-03-05T18:50:43.479629",
     "status": "completed"
    },
    "tags": []
   },
   "outputs": [
    {
     "name": "stdout",
     "output_type": "stream",
     "text": [
      "--2025-03-05 18:50:43--  https://downloads.cs.stanford.edu/nlp/data/glove.6B.zip\r\n",
      "Resolving downloads.cs.stanford.edu (downloads.cs.stanford.edu)... "
     ]
    },
    {
     "name": "stderr",
     "output_type": "stream",
     "text": [
      "/usr/lib/python3.10/pty.py:89: RuntimeWarning:\n",
      "\n",
      "os.fork() was called. os.fork() is incompatible with multithreaded code, and JAX is multithreaded, so this will likely lead to a deadlock.\n",
      "\n"
     ]
    },
    {
     "name": "stdout",
     "output_type": "stream",
     "text": [
      "171.64.64.22\r\n",
      "Connecting to downloads.cs.stanford.edu (downloads.cs.stanford.edu)|171.64.64.22|:443... connected.\r\n",
      "HTTP request sent, awaiting response... 200 OK\r\n",
      "Length: 862182613 (822M) [application/zip]\r\n",
      "Saving to: ‘glove.6B.zip’\r\n",
      "\r\n",
      "glove.6B.zip        100%[===================>] 822.24M  1.15MB/s    in 10m 24s \r\n",
      "\r\n",
      "2025-03-05 19:01:08 (1.32 MB/s) - ‘glove.6B.zip’ saved [862182613/862182613]\r\n",
      "\r\n"
     ]
    }
   ],
   "source": [
    "# Download the GloVe Embeddings files\n",
    "if not os.path.exists('glove.6B.zip'):\n",
    "    !wget https://downloads.cs.stanford.edu/nlp/data/glove.6B.zip\n",
    "    !unzip -q glove.6B.zip"
   ]
  },
  {
   "cell_type": "code",
   "execution_count": 15,
   "id": "603a3ed6",
   "metadata": {
    "execution": {
     "iopub.execute_input": "2025-03-05T19:01:28.904805Z",
     "iopub.status.busy": "2025-03-05T19:01:28.904402Z",
     "iopub.status.idle": "2025-03-05T19:01:32.538735Z",
     "shell.execute_reply": "2025-03-05T19:01:32.537643Z"
    },
    "papermill": {
     "duration": 3.76726,
     "end_time": "2025-03-05T19:01:32.540265",
     "exception": false,
     "start_time": "2025-03-05T19:01:28.773005",
     "status": "completed"
    },
    "tags": []
   },
   "outputs": [
    {
     "name": "stdout",
     "output_type": "stream",
     "text": [
      "Found 400000 word vectors.\n"
     ]
    }
   ],
   "source": [
    "# Load GloVe word embeddings into a dictionary mapping words to their vector representations.\n",
    "path_to_glove_file = \"glove.6B.50d.txt\"\n",
    "embeddings_index = {}\n",
    "with open(path_to_glove_file) as f:\n",
    "    for line in f:\n",
    "        word, coefs = line.split(maxsplit=1)\n",
    "        coefs = np.fromstring(coefs, \"f\", sep=\" \")\n",
    "        embeddings_index[word] = coefs\n",
    "\n",
    "print(\"Found %s word vectors.\" % len(embeddings_index))\n"
   ]
  },
  {
   "cell_type": "code",
   "execution_count": 16,
   "id": "9a795dc2",
   "metadata": {
    "execution": {
     "iopub.execute_input": "2025-03-05T19:01:32.807274Z",
     "iopub.status.busy": "2025-03-05T19:01:32.806922Z",
     "iopub.status.idle": "2025-03-05T19:01:32.905887Z",
     "shell.execute_reply": "2025-03-05T19:01:32.904862Z"
    },
    "papermill": {
     "duration": 0.233483,
     "end_time": "2025-03-05T19:01:32.907216",
     "exception": false,
     "start_time": "2025-03-05T19:01:32.673733",
     "status": "completed"
    },
    "tags": []
   },
   "outputs": [
    {
     "name": "stdout",
     "output_type": "stream",
     "text": [
      "Converted 37647 words (8006 misses)\n"
     ]
    }
   ],
   "source": [
    "embedding_dim = 50\n",
    "hits = 0\n",
    "misses = 0\n",
    "missed_words = []\n",
    "\n",
    "# Prepare embedding matrix\n",
    "embedding_matrix = np.zeros((vocab_len, embedding_dim))\n",
    "for word, i in word_index.items():\n",
    "    embedding_vector = embeddings_index.get(word)\n",
    "    if embedding_vector is not None:\n",
    "        # Words not found in embedding index will be all-zeros.\n",
    "        # This includes the representation for \"padding\" and \"OOV\"\n",
    "        embedding_matrix[i] = embedding_vector\n",
    "        hits += 1\n",
    "    else:\n",
    "        misses += 1\n",
    "        missed_words.append(word)\n",
    "print(\"Converted %d words (%d misses)\" % (hits, misses))"
   ]
  },
  {
   "cell_type": "code",
   "execution_count": 17,
   "id": "8d040e69",
   "metadata": {
    "execution": {
     "iopub.execute_input": "2025-03-05T19:01:33.254962Z",
     "iopub.status.busy": "2025-03-05T19:01:33.254647Z",
     "iopub.status.idle": "2025-03-05T19:01:33.260796Z",
     "shell.execute_reply": "2025-03-05T19:01:33.260071Z"
    },
    "papermill": {
     "duration": 0.195096,
     "end_time": "2025-03-05T19:01:33.262043",
     "exception": false,
     "start_time": "2025-03-05T19:01:33.066947",
     "status": "completed"
    },
    "tags": []
   },
   "outputs": [
    {
     "data": {
      "text/plain": [
       "['<OOV>', \"don't\", \"didn't\", \"it's\", \"i'm\"]"
      ]
     },
     "execution_count": 17,
     "metadata": {},
     "output_type": "execute_result"
    }
   ],
   "source": [
    "missed_words[:5]"
   ]
  },
  {
   "cell_type": "code",
   "execution_count": 18,
   "id": "578d5485",
   "metadata": {
    "execution": {
     "iopub.execute_input": "2025-03-05T19:01:33.528229Z",
     "iopub.status.busy": "2025-03-05T19:01:33.527919Z",
     "iopub.status.idle": "2025-03-05T19:01:33.533022Z",
     "shell.execute_reply": "2025-03-05T19:01:33.532273Z"
    },
    "papermill": {
     "duration": 0.138777,
     "end_time": "2025-03-05T19:01:33.534220",
     "exception": false,
     "start_time": "2025-03-05T19:01:33.395443",
     "status": "completed"
    },
    "tags": []
   },
   "outputs": [
    {
     "data": {
      "text/plain": [
       "['hydrido', 'alemagna', 'browny', \"slater's\", \"charlie's\"]"
      ]
     },
     "execution_count": 18,
     "metadata": {},
     "output_type": "execute_result"
    }
   ],
   "source": [
    "missed_words[-5:]"
   ]
  },
  {
   "cell_type": "markdown",
   "id": "385b9aa8",
   "metadata": {
    "papermill": {
     "duration": 0.131332,
     "end_time": "2025-03-05T19:01:33.798500",
     "exception": false,
     "start_time": "2025-03-05T19:01:33.667168",
     "status": "completed"
    },
    "tags": []
   },
   "source": [
    "## Model Training"
   ]
  },
  {
   "cell_type": "code",
   "execution_count": 19,
   "id": "0e137dc7",
   "metadata": {
    "execution": {
     "iopub.execute_input": "2025-03-05T19:01:34.067210Z",
     "iopub.status.busy": "2025-03-05T19:01:34.066893Z",
     "iopub.status.idle": "2025-03-05T19:01:35.477204Z",
     "shell.execute_reply": "2025-03-05T19:01:35.476332Z"
    },
    "papermill": {
     "duration": 1.546602,
     "end_time": "2025-03-05T19:01:35.478372",
     "exception": false,
     "start_time": "2025-03-05T19:01:33.931770",
     "status": "completed"
    },
    "tags": []
   },
   "outputs": [
    {
     "data": {
      "text/html": [
       "<pre style=\"white-space:pre;overflow-x:auto;line-height:normal;font-family:Menlo,'DejaVu Sans Mono',consolas,'Courier New',monospace\"><span style=\"font-weight: bold\">Model: \"sequential\"</span>\n",
       "</pre>\n"
      ],
      "text/plain": [
       "\u001b[1mModel: \"sequential\"\u001b[0m\n"
      ]
     },
     "metadata": {},
     "output_type": "display_data"
    },
    {
     "data": {
      "text/html": [
       "<pre style=\"white-space:pre;overflow-x:auto;line-height:normal;font-family:Menlo,'DejaVu Sans Mono',consolas,'Courier New',monospace\">┏━━━━━━━━━━━━━━━━━━━━━━━━━━━━━━━━━━━━━━┳━━━━━━━━━━━━━━━━━━━━━━━━━━━━━┳━━━━━━━━━━━━━━━━━┓\n",
       "┃<span style=\"font-weight: bold\"> Layer (type)                         </span>┃<span style=\"font-weight: bold\"> Output Shape                </span>┃<span style=\"font-weight: bold\">         Param # </span>┃\n",
       "┡━━━━━━━━━━━━━━━━━━━━━━━━━━━━━━━━━━━━━━╇━━━━━━━━━━━━━━━━━━━━━━━━━━━━━╇━━━━━━━━━━━━━━━━━┩\n",
       "│ embedding (<span style=\"color: #0087ff; text-decoration-color: #0087ff\">Embedding</span>)                │ (<span style=\"color: #00d7ff; text-decoration-color: #00d7ff\">None</span>, <span style=\"color: #00af00; text-decoration-color: #00af00\">50</span>, <span style=\"color: #00af00; text-decoration-color: #00af00\">50</span>)              │       <span style=\"color: #00af00; text-decoration-color: #00af00\">2,282,750</span> │\n",
       "├──────────────────────────────────────┼─────────────────────────────┼─────────────────┤\n",
       "│ bidirectional (<span style=\"color: #0087ff; text-decoration-color: #0087ff\">Bidirectional</span>)        │ (<span style=\"color: #00d7ff; text-decoration-color: #00d7ff\">None</span>, <span style=\"color: #00af00; text-decoration-color: #00af00\">50</span>, <span style=\"color: #00af00; text-decoration-color: #00af00\">128</span>)             │          <span style=\"color: #00af00; text-decoration-color: #00af00\">58,880</span> │\n",
       "├──────────────────────────────────────┼─────────────────────────────┼─────────────────┤\n",
       "│ batch_normalization                  │ (<span style=\"color: #00d7ff; text-decoration-color: #00d7ff\">None</span>, <span style=\"color: #00af00; text-decoration-color: #00af00\">50</span>, <span style=\"color: #00af00; text-decoration-color: #00af00\">128</span>)             │             <span style=\"color: #00af00; text-decoration-color: #00af00\">512</span> │\n",
       "│ (<span style=\"color: #0087ff; text-decoration-color: #0087ff\">BatchNormalization</span>)                 │                             │                 │\n",
       "├──────────────────────────────────────┼─────────────────────────────┼─────────────────┤\n",
       "│ time_distributed (<span style=\"color: #0087ff; text-decoration-color: #0087ff\">TimeDistributed</span>)   │ (<span style=\"color: #00d7ff; text-decoration-color: #00d7ff\">None</span>, <span style=\"color: #00af00; text-decoration-color: #00af00\">50</span>, <span style=\"color: #00af00; text-decoration-color: #00af00\">13</span>)              │           <span style=\"color: #00af00; text-decoration-color: #00af00\">1,677</span> │\n",
       "└──────────────────────────────────────┴─────────────────────────────┴─────────────────┘\n",
       "</pre>\n"
      ],
      "text/plain": [
       "┏━━━━━━━━━━━━━━━━━━━━━━━━━━━━━━━━━━━━━━┳━━━━━━━━━━━━━━━━━━━━━━━━━━━━━┳━━━━━━━━━━━━━━━━━┓\n",
       "┃\u001b[1m \u001b[0m\u001b[1mLayer (type)                        \u001b[0m\u001b[1m \u001b[0m┃\u001b[1m \u001b[0m\u001b[1mOutput Shape               \u001b[0m\u001b[1m \u001b[0m┃\u001b[1m \u001b[0m\u001b[1m        Param #\u001b[0m\u001b[1m \u001b[0m┃\n",
       "┡━━━━━━━━━━━━━━━━━━━━━━━━━━━━━━━━━━━━━━╇━━━━━━━━━━━━━━━━━━━━━━━━━━━━━╇━━━━━━━━━━━━━━━━━┩\n",
       "│ embedding (\u001b[38;5;33mEmbedding\u001b[0m)                │ (\u001b[38;5;45mNone\u001b[0m, \u001b[38;5;34m50\u001b[0m, \u001b[38;5;34m50\u001b[0m)              │       \u001b[38;5;34m2,282,750\u001b[0m │\n",
       "├──────────────────────────────────────┼─────────────────────────────┼─────────────────┤\n",
       "│ bidirectional (\u001b[38;5;33mBidirectional\u001b[0m)        │ (\u001b[38;5;45mNone\u001b[0m, \u001b[38;5;34m50\u001b[0m, \u001b[38;5;34m128\u001b[0m)             │          \u001b[38;5;34m58,880\u001b[0m │\n",
       "├──────────────────────────────────────┼─────────────────────────────┼─────────────────┤\n",
       "│ batch_normalization                  │ (\u001b[38;5;45mNone\u001b[0m, \u001b[38;5;34m50\u001b[0m, \u001b[38;5;34m128\u001b[0m)             │             \u001b[38;5;34m512\u001b[0m │\n",
       "│ (\u001b[38;5;33mBatchNormalization\u001b[0m)                 │                             │                 │\n",
       "├──────────────────────────────────────┼─────────────────────────────┼─────────────────┤\n",
       "│ time_distributed (\u001b[38;5;33mTimeDistributed\u001b[0m)   │ (\u001b[38;5;45mNone\u001b[0m, \u001b[38;5;34m50\u001b[0m, \u001b[38;5;34m13\u001b[0m)              │           \u001b[38;5;34m1,677\u001b[0m │\n",
       "└──────────────────────────────────────┴─────────────────────────────┴─────────────────┘\n"
      ]
     },
     "metadata": {},
     "output_type": "display_data"
    },
    {
     "data": {
      "text/html": [
       "<pre style=\"white-space:pre;overflow-x:auto;line-height:normal;font-family:Menlo,'DejaVu Sans Mono',consolas,'Courier New',monospace\"><span style=\"font-weight: bold\"> Total params: </span><span style=\"color: #00af00; text-decoration-color: #00af00\">2,343,819</span> (8.94 MB)\n",
       "</pre>\n"
      ],
      "text/plain": [
       "\u001b[1m Total params: \u001b[0m\u001b[38;5;34m2,343,819\u001b[0m (8.94 MB)\n"
      ]
     },
     "metadata": {},
     "output_type": "display_data"
    },
    {
     "data": {
      "text/html": [
       "<pre style=\"white-space:pre;overflow-x:auto;line-height:normal;font-family:Menlo,'DejaVu Sans Mono',consolas,'Courier New',monospace\"><span style=\"font-weight: bold\"> Trainable params: </span><span style=\"color: #00af00; text-decoration-color: #00af00\">2,343,563</span> (8.94 MB)\n",
       "</pre>\n"
      ],
      "text/plain": [
       "\u001b[1m Trainable params: \u001b[0m\u001b[38;5;34m2,343,563\u001b[0m (8.94 MB)\n"
      ]
     },
     "metadata": {},
     "output_type": "display_data"
    },
    {
     "data": {
      "text/html": [
       "<pre style=\"white-space:pre;overflow-x:auto;line-height:normal;font-family:Menlo,'DejaVu Sans Mono',consolas,'Courier New',monospace\"><span style=\"font-weight: bold\"> Non-trainable params: </span><span style=\"color: #00af00; text-decoration-color: #00af00\">256</span> (1.00 KB)\n",
       "</pre>\n"
      ],
      "text/plain": [
       "\u001b[1m Non-trainable params: \u001b[0m\u001b[38;5;34m256\u001b[0m (1.00 KB)\n"
      ]
     },
     "metadata": {},
     "output_type": "display_data"
    }
   ],
   "source": [
    "\n",
    "model = keras.Sequential([\n",
    "    keras.Input(shape = (sentence_length,)),\n",
    "    \n",
    "    keras.layers.Embedding( input_dim = vocab_len, output_dim = 50, weights = [embedding_matrix]),    \n",
    "\n",
    "    keras.layers.Bidirectional(\n",
    "        keras.layers.LSTM( units = 64, return_sequences = True,\n",
    "                           kernel_initializer = keras.initializers.GlorotUniform()\n",
    "                         )\n",
    "    ),\n",
    "    \n",
    "    keras.layers.BatchNormalization(),\n",
    "    \n",
    "    keras.layers.TimeDistributed(keras.layers.Dense(units = tags_len , activation = \"softmax\")  )\n",
    "])\n",
    "model.summary()"
   ]
  },
  {
   "cell_type": "code",
   "execution_count": 20,
   "id": "b868da9b",
   "metadata": {
    "execution": {
     "iopub.execute_input": "2025-03-05T19:01:35.743429Z",
     "iopub.status.busy": "2025-03-05T19:01:35.743116Z",
     "iopub.status.idle": "2025-03-05T19:01:35.746766Z",
     "shell.execute_reply": "2025-03-05T19:01:35.746043Z"
    },
    "papermill": {
     "duration": 0.139204,
     "end_time": "2025-03-05T19:01:35.748009",
     "exception": false,
     "start_time": "2025-03-05T19:01:35.608805",
     "status": "completed"
    },
    "tags": []
   },
   "outputs": [],
   "source": [
    "early_stopping = keras.callbacks.EarlyStopping(\n",
    "    monitor = 'val_accuracy',  \n",
    "    patience = 5,          \n",
    "    restore_best_weights = True  \n",
    ")"
   ]
  },
  {
   "cell_type": "code",
   "execution_count": 21,
   "id": "863096bd",
   "metadata": {
    "execution": {
     "iopub.execute_input": "2025-03-05T19:01:36.068195Z",
     "iopub.status.busy": "2025-03-05T19:01:36.067887Z",
     "iopub.status.idle": "2025-03-05T19:05:51.911383Z",
     "shell.execute_reply": "2025-03-05T19:05:51.910319Z"
    },
    "papermill": {
     "duration": 256.033795,
     "end_time": "2025-03-05T19:05:51.913164",
     "exception": false,
     "start_time": "2025-03-05T19:01:35.879369",
     "status": "completed"
    },
    "tags": []
   },
   "outputs": [
    {
     "name": "stdout",
     "output_type": "stream",
     "text": [
      "Epoch 1/30\n",
      "\u001b[1m1585/1585\u001b[0m \u001b[32m━━━━━━━━━━━━━━━━━━━━\u001b[0m\u001b[37m\u001b[0m \u001b[1m32s\u001b[0m 15ms/step - accuracy: 0.6808 - loss: 1.3794 - val_accuracy: 0.9116 - val_loss: 0.3303\n",
      "Epoch 2/30\n",
      "\u001b[1m1585/1585\u001b[0m \u001b[32m━━━━━━━━━━━━━━━━━━━━\u001b[0m\u001b[37m\u001b[0m \u001b[1m23s\u001b[0m 14ms/step - accuracy: 0.9252 - loss: 0.2692 - val_accuracy: 0.9573 - val_loss: 0.1770\n",
      "Epoch 3/30\n",
      "\u001b[1m1585/1585\u001b[0m \u001b[32m━━━━━━━━━━━━━━━━━━━━\u001b[0m\u001b[37m\u001b[0m \u001b[1m23s\u001b[0m 14ms/step - accuracy: 0.9528 - loss: 0.1471 - val_accuracy: 0.9652 - val_loss: 0.1247\n",
      "Epoch 4/30\n",
      "\u001b[1m1585/1585\u001b[0m \u001b[32m━━━━━━━━━━━━━━━━━━━━\u001b[0m\u001b[37m\u001b[0m \u001b[1m23s\u001b[0m 14ms/step - accuracy: 0.9656 - loss: 0.1027 - val_accuracy: 0.9605 - val_loss: 0.1020\n",
      "Epoch 5/30\n",
      "\u001b[1m1585/1585\u001b[0m \u001b[32m━━━━━━━━━━━━━━━━━━━━\u001b[0m\u001b[37m\u001b[0m \u001b[1m23s\u001b[0m 14ms/step - accuracy: 0.9657 - loss: 0.0816 - val_accuracy: 0.9616 - val_loss: 0.0905\n",
      "Epoch 6/30\n",
      "\u001b[1m1585/1585\u001b[0m \u001b[32m━━━━━━━━━━━━━━━━━━━━\u001b[0m\u001b[37m\u001b[0m \u001b[1m23s\u001b[0m 14ms/step - accuracy: 0.9666 - loss: 0.0673 - val_accuracy: 0.9685 - val_loss: 0.0831\n",
      "Epoch 7/30\n",
      "\u001b[1m1585/1585\u001b[0m \u001b[32m━━━━━━━━━━━━━━━━━━━━\u001b[0m\u001b[37m\u001b[0m \u001b[1m22s\u001b[0m 14ms/step - accuracy: 0.9627 - loss: 0.0597 - val_accuracy: 0.9605 - val_loss: 0.0788\n",
      "Epoch 8/30\n",
      "\u001b[1m1585/1585\u001b[0m \u001b[32m━━━━━━━━━━━━━━━━━━━━\u001b[0m\u001b[37m\u001b[0m \u001b[1m22s\u001b[0m 14ms/step - accuracy: 0.9540 - loss: 0.0530 - val_accuracy: 0.9680 - val_loss: 0.0758\n",
      "Epoch 9/30\n",
      "\u001b[1m1585/1585\u001b[0m \u001b[32m━━━━━━━━━━━━━━━━━━━━\u001b[0m\u001b[37m\u001b[0m \u001b[1m22s\u001b[0m 14ms/step - accuracy: 0.9515 - loss: 0.0485 - val_accuracy: 0.9426 - val_loss: 0.0738\n",
      "Epoch 10/30\n",
      "\u001b[1m1585/1585\u001b[0m \u001b[32m━━━━━━━━━━━━━━━━━━━━\u001b[0m\u001b[37m\u001b[0m \u001b[1m22s\u001b[0m 14ms/step - accuracy: 0.9547 - loss: 0.0450 - val_accuracy: 0.9560 - val_loss: 0.0725\n",
      "Epoch 11/30\n",
      "\u001b[1m1585/1585\u001b[0m \u001b[32m━━━━━━━━━━━━━━━━━━━━\u001b[0m\u001b[37m\u001b[0m \u001b[1m22s\u001b[0m 14ms/step - accuracy: 0.9565 - loss: 0.0412 - val_accuracy: 0.9611 - val_loss: 0.0721\n"
     ]
    }
   ],
   "source": [
    "model.compile( optimizer = keras.optimizers.Adam(learning_rate = 0.0001),\n",
    "               loss = keras.losses.SparseCategoricalCrossentropy(ignore_class = 0),\n",
    "               metrics = [\"accuracy\"],\n",
    "             )\n",
    "\n",
    "\n",
    "history = model.fit( X_train, Y_train, epochs = 30, validation_data = ( X_valid, Y_valid),\n",
    "                     callbacks=[early_stopping]\n",
    "                   )\n",
    " "
   ]
  },
  {
   "cell_type": "code",
   "execution_count": 22,
   "id": "33552b45",
   "metadata": {
    "execution": {
     "iopub.execute_input": "2025-03-05T19:05:52.647606Z",
     "iopub.status.busy": "2025-03-05T19:05:52.647245Z",
     "iopub.status.idle": "2025-03-05T19:05:52.743948Z",
     "shell.execute_reply": "2025-03-05T19:05:52.743143Z"
    },
    "papermill": {
     "duration": 0.435469,
     "end_time": "2025-03-05T19:05:52.745279",
     "exception": false,
     "start_time": "2025-03-05T19:05:52.309810",
     "status": "completed"
    },
    "tags": []
   },
   "outputs": [
    {
     "data": {
      "text/html": [
       "<iframe\n",
       "    scrolling=\"no\"\n",
       "    width=\"100%\"\n",
       "    height=\"545px\"\n",
       "    src=\"iframe_figures/figure_22.html\"\n",
       "    frameborder=\"0\"\n",
       "    allowfullscreen\n",
       "></iframe>\n"
      ]
     },
     "metadata": {},
     "output_type": "display_data"
    }
   ],
   "source": [
    "training_history = pd.DataFrame(history.history)\n",
    "fig = px.line(\n",
    "    training_history,\n",
    "    y = [ 'loss', 'val_loss' ], \n",
    "    title = 'Training & Validation Loss'\n",
    ")\n",
    "fig.show(renderer = \"iframe\")\n"
   ]
  },
  {
   "cell_type": "code",
   "execution_count": 23,
   "id": "15d3b73a",
   "metadata": {
    "execution": {
     "iopub.execute_input": "2025-03-05T19:05:53.446640Z",
     "iopub.status.busy": "2025-03-05T19:05:53.446087Z",
     "iopub.status.idle": "2025-03-05T19:05:53.512062Z",
     "shell.execute_reply": "2025-03-05T19:05:53.511194Z"
    },
    "papermill": {
     "duration": 0.405196,
     "end_time": "2025-03-05T19:05:53.513454",
     "exception": false,
     "start_time": "2025-03-05T19:05:53.108258",
     "status": "completed"
    },
    "tags": []
   },
   "outputs": [
    {
     "data": {
      "text/html": [
       "<iframe\n",
       "    scrolling=\"no\"\n",
       "    width=\"100%\"\n",
       "    height=\"545px\"\n",
       "    src=\"iframe_figures/figure_23.html\"\n",
       "    frameborder=\"0\"\n",
       "    allowfullscreen\n",
       "></iframe>\n"
      ]
     },
     "metadata": {},
     "output_type": "display_data"
    }
   ],
   "source": [
    "training_history = pd.DataFrame(history.history)\n",
    "fig = px.line(\n",
    "    training_history,\n",
    "    y = [ 'accuracy', 'val_accuracy' ], \n",
    "    title = 'Training & Validation Accuracy'\n",
    ")\n",
    "fig.show(renderer = \"iframe\")\n"
   ]
  },
  {
   "cell_type": "code",
   "execution_count": 24,
   "id": "67c51eba",
   "metadata": {
    "execution": {
     "iopub.execute_input": "2025-03-05T19:05:54.246953Z",
     "iopub.status.busy": "2025-03-05T19:05:54.246623Z",
     "iopub.status.idle": "2025-03-05T19:05:54.364907Z",
     "shell.execute_reply": "2025-03-05T19:05:54.364162Z"
    },
    "papermill": {
     "duration": 0.460817,
     "end_time": "2025-03-05T19:05:54.366418",
     "exception": false,
     "start_time": "2025-03-05T19:05:53.905601",
     "status": "completed"
    },
    "tags": []
   },
   "outputs": [],
   "source": [
    "model.save(\"model.h5\")\n",
    "with open('word_tokenizer.pkl', 'wb') as f:\n",
    "    pickle.dump(word_tokenizer, f)\n",
    "\n",
    "with open('tag_tokenizer.pkl', 'wb') as f:\n",
    "    pickle.dump(tag_tokenizer, f)"
   ]
  }
 ],
 "metadata": {
  "kaggle": {
   "accelerator": "none",
   "dataSources": [],
   "dockerImageVersionId": 30822,
   "isGpuEnabled": false,
   "isInternetEnabled": true,
   "language": "python",
   "sourceType": "notebook"
  },
  "kernelspec": {
   "display_name": "Python 3",
   "language": "python",
   "name": "python3"
  },
  "language_info": {
   "codemirror_mode": {
    "name": "ipython",
    "version": 3
   },
   "file_extension": ".py",
   "mimetype": "text/x-python",
   "name": "python",
   "nbconvert_exporter": "python",
   "pygments_lexer": "ipython3",
   "version": "3.10.12"
  },
  "papermill": {
   "default_parameters": {},
   "duration": 952.346054,
   "end_time": "2025-03-05T19:05:57.588014",
   "environment_variables": {},
   "exception": null,
   "input_path": "__notebook__.ipynb",
   "output_path": "__notebook__.ipynb",
   "parameters": {},
   "start_time": "2025-03-05T18:50:05.241960",
   "version": "2.6.0"
  }
 },
 "nbformat": 4,
 "nbformat_minor": 5
}
